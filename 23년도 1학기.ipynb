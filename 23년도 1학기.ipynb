{
  "nbformat": 4,
  "nbformat_minor": 0,
  "metadata": {
    "colab": {
      "provenance": [],
      "authorship_tag": "ABX9TyOFmnmTO28oyRmXbVK2AiLh",
      "include_colab_link": true
    },
    "kernelspec": {
      "name": "python3",
      "display_name": "Python 3"
    },
    "language_info": {
      "name": "python"
    }
  },
  "cells": [
    {
      "cell_type": "markdown",
      "metadata": {
        "id": "view-in-github",
        "colab_type": "text"
      },
      "source": [
        "<a href=\"https://colab.research.google.com/github/mepilgi/pb1/blob/main/23%EB%85%84%EB%8F%84%201%ED%95%99%EA%B8%B0.ipynb\" target=\"_parent\"><img src=\"https://colab.research.google.com/assets/colab-badge.svg\" alt=\"Open In Colab\"/></a>"
      ]
    },
    {
      "cell_type": "code",
      "source": [
        "a=123\n",
        "b=456\n",
        "print(a+b)\n",
        "print(a**2)"
      ],
      "metadata": {
        "colab": {
          "base_uri": "https://localhost:8080/"
        },
        "id": "7IDR5DqPNlqj",
        "outputId": "263e1c35-bb5b-4026-e27c-336db1a978f8"
      },
      "execution_count": 2,
      "outputs": [
        {
          "output_type": "stream",
          "name": "stdout",
          "text": [
            "579\n",
            "15129\n"
          ]
        }
      ]
    },
    {
      "cell_type": "code",
      "source": [
        "print(a*b)"
      ],
      "metadata": {
        "colab": {
          "base_uri": "https://localhost:8080/"
        },
        "id": "XysoCxJONzWA",
        "outputId": "a703f5bb-7b3d-4600-ceb4-0196dadea9b3"
      },
      "execution_count": 3,
      "outputs": [
        {
          "output_type": "stream",
          "name": "stdout",
          "text": [
            "56088\n"
          ]
        }
      ]
    },
    {
      "cell_type": "markdown",
      "source": [
        "#제목\n",
        "\n",
        "\n",
        "\n"
      ],
      "metadata": {
        "id": "LddrofIeOH37"
      }
    },
    {
      "cell_type": "code",
      "source": [],
      "metadata": {
        "id": "Y8xo3G5KN4xI"
      },
      "execution_count": null,
      "outputs": []
    },
    {
      "cell_type": "code",
      "execution_count": null,
      "metadata": {
        "id": "N0Ragja-LC_X"
      },
      "outputs": [],
      "source": []
    }
  ]
}